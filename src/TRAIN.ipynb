{
 "cells": [
  {
   "cell_type": "code",
   "execution_count": null,
   "metadata": {},
   "outputs": [],
   "source": [
    "import json\n",
    "with open('TEST.json', 'r', encoding='utf-8') as file:\n",
    "    box = json.load(file)\n",
    "    skip_project_name = None\n",
    "    task_to_update = []\n",
    "    new_task_after_reset = []\n",
    "    all_task = box.get('tasks')\n",
    "    for task in all_task:\n",
    "        id_in_work_composer = task.get('_id')\n",
    "        id_projects = task.get('_project')\n",
    "        id_users = task.get('_assignedTo')\n",
    "        title = task.get('title')\n",
    "        description = task.get('description')\n",
    "        author = task.get('_author')\n",
    "        status = task.get('status')\n",
    "\n",
    "        if skip_project_name is not None and '[Сайты]' in title and skip_project_name in title:\n",
    "            continue\n",
    "\n",
    "        data = {\n",
    "            'id_in_work_composer': id_in_work_composer,\n",
    "            'id_projects': id_projects,\n",
    "            'id_users': id_users,\n",
    "            'title': title,\n",
    "            'description': description,\n",
    "            'author': author,\n",
    "            'status': status,\n",
    "            'id_project_site': ''\n",
    "        }\n",
    "        if project_site is not None and '[Сайты]' in title and project_site.project in title:\n",
    "            data['id_project_site'] = project_site.id\n",
    "\n",
    "        new_task = await get_tasks_in_db(id_in_work_composer)\n",
    "        if new_task is not None:\n",
    "            if_change_task = [\n",
    "                new_task.status != status,\n",
    "                new_task.id_users != id_users,\n",
    "                new_task.title != title,\n",
    "                new_task.description != description\n",
    "            ]\n",
    "            if any(if_change_task):\n",
    "                logger_to_project.info(f'{new_task.title} is update with {data = }')\n",
    "                new_update_task = await update_task(id_in_work_composer, data)\n",
    "                if new_update_task:\n",
    "                    # if new_task.id_project_site != '':\n",
    "                    #     skip_project_name = await update_google_sheets_from_work_composer(\n",
    "                    #         new_task,\n",
    "                    #         id_projects,\n",
    "                    #         description,\n",
    "                    #         id_users,\n",
    "                    #         data\n",
    "                    #     )\n",
    "                    task_to_update.append((new_task, data))\n",
    "        else:\n",
    "            new_task = await create_tasks(data)\n",
    "            if if_reset is None and new_task:\n",
    "                new_task_after_reset.append((new_task, tags))\n",
    "                logger_to_project.info(f'new_task {new_task}')\n",
    "                continue"
   ]
  },
  {
   "cell_type": "code",
   "execution_count": 6,
   "metadata": {},
   "outputs": [],
   "source": [
    "from settings.db import AsyncSessionLocal, ChatId, Projects, ProjectsSite, Tasks, Users\n",
    "from sqlalchemy import select\n",
    "import asyncio"
   ]
  },
  {
   "cell_type": "code",
   "execution_count": 3,
   "metadata": {},
   "outputs": [],
   "source": [
    "async def get_tasks_in_db(tasks_id_in_work_composer):\n",
    "    async with AsyncSessionLocal() as session:\n",
    "        try:\n",
    "            db_task_id = await session.execute(\n",
    "                select(Tasks).where(\n",
    "                    Tasks.id_in_work_composer == tasks_id_in_work_composer\n",
    "                )\n",
    "            )\n",
    "            db_task_id = db_task_id.scalars().first()\n",
    "        except Exception:\n",
    "            db_task_id = None\n",
    "    return db_task_id"
   ]
  },
  {
   "cell_type": "code",
   "execution_count": 7,
   "metadata": {},
   "outputs": [
    {
     "ename": "RuntimeError",
     "evalue": "asyncio.run() cannot be called from a running event loop",
     "output_type": "error",
     "traceback": [
      "\u001b[0;31m---------------------------------------------------------------------------\u001b[0m",
      "\u001b[0;31mRuntimeError\u001b[0m                              Traceback (most recent call last)",
      "\u001b[1;32m/home/anton/Work/telegram_bot_for_alerts/src/TRAIN.ipynb Cell 4\u001b[0m line \u001b[0;36m3\n\u001b[1;32m      <a href='vscode-notebook-cell:/home/anton/Work/telegram_bot_for_alerts/src/TRAIN.ipynb#W3sZmlsZQ%3D%3D?line=0'>1</a>\u001b[0m x \u001b[39m=\u001b[39m \u001b[39m'\u001b[39m\u001b[39m652e370c7967ae40e84755c7\u001b[39m\u001b[39m'\u001b[39m\n\u001b[1;32m      <a href='vscode-notebook-cell:/home/anton/Work/telegram_bot_for_alerts/src/TRAIN.ipynb#W3sZmlsZQ%3D%3D?line=1'>2</a>\u001b[0m \u001b[39m#f = get_tasks_in_db(x)\u001b[39;00m\n\u001b[0;32m----> <a href='vscode-notebook-cell:/home/anton/Work/telegram_bot_for_alerts/src/TRAIN.ipynb#W3sZmlsZQ%3D%3D?line=2'>3</a>\u001b[0m f \u001b[39m=\u001b[39m asyncio\u001b[39m.\u001b[39;49mrun(get_tasks_in_db(x))\n",
      "File \u001b[0;32m/usr/lib/python3.11/asyncio/runners.py:186\u001b[0m, in \u001b[0;36mrun\u001b[0;34m(main, debug)\u001b[0m\n\u001b[1;32m    161\u001b[0m \u001b[39m\u001b[39m\u001b[39m\"\"\"Execute the coroutine and return the result.\u001b[39;00m\n\u001b[1;32m    162\u001b[0m \n\u001b[1;32m    163\u001b[0m \u001b[39mThis function runs the passed coroutine, taking care of\u001b[39;00m\n\u001b[0;32m   (...)\u001b[0m\n\u001b[1;32m    182\u001b[0m \u001b[39m    asyncio.run(main())\u001b[39;00m\n\u001b[1;32m    183\u001b[0m \u001b[39m\"\"\"\u001b[39;00m\n\u001b[1;32m    184\u001b[0m \u001b[39mif\u001b[39;00m events\u001b[39m.\u001b[39m_get_running_loop() \u001b[39mis\u001b[39;00m \u001b[39mnot\u001b[39;00m \u001b[39mNone\u001b[39;00m:\n\u001b[1;32m    185\u001b[0m     \u001b[39m# fail fast with short traceback\u001b[39;00m\n\u001b[0;32m--> 186\u001b[0m     \u001b[39mraise\u001b[39;00m \u001b[39mRuntimeError\u001b[39;00m(\n\u001b[1;32m    187\u001b[0m         \u001b[39m\"\u001b[39m\u001b[39masyncio.run() cannot be called from a running event loop\u001b[39m\u001b[39m\"\u001b[39m)\n\u001b[1;32m    189\u001b[0m \u001b[39mwith\u001b[39;00m Runner(debug\u001b[39m=\u001b[39mdebug) \u001b[39mas\u001b[39;00m runner:\n\u001b[1;32m    190\u001b[0m     \u001b[39mreturn\u001b[39;00m runner\u001b[39m.\u001b[39mrun(main)\n",
      "\u001b[0;31mRuntimeError\u001b[0m: asyncio.run() cannot be called from a running event loop"
     ]
    }
   ],
   "source": [
    "x = '652e370c7967ae40e84755c7'\n",
    "#f = get_tasks_in_db(x)\n",
    "f = asyncio.run(get_tasks_in_db(x))"
   ]
  }
 ],
 "metadata": {
  "kernelspec": {
   "display_name": "Python 3",
   "language": "python",
   "name": "python3"
  },
  "language_info": {
   "codemirror_mode": {
    "name": "ipython",
    "version": 3
   },
   "file_extension": ".py",
   "mimetype": "text/x-python",
   "name": "python",
   "nbconvert_exporter": "python",
   "pygments_lexer": "ipython3",
   "version": "3.11.4"
  }
 },
 "nbformat": 4,
 "nbformat_minor": 2
}
